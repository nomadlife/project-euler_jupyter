{
 "cells": [
  {
   "cell_type": "markdown",
   "metadata": {},
   "source": [
    "팩토리얼 자릿수 합"
   ]
  },
  {
   "cell_type": "markdown",
   "metadata": {},
   "source": [
    "# Q020 Factorial digit sum\n",
    "\n",
    "n! means n × (n − 1) × ... × 3 × 2 × 1\n",
    "\n",
    "For example, 10! = 10 × 9 × ... × 3 × 2 × 1 = 3628800,\n",
    "and the sum of the digits in the number 10! is 3 + 6 + 2 + 8 + 8 + 0 + 0 = 27.\n",
    "\n",
    "Find the sum of the digits in the number 100!\n"
   ]
  },
  {
   "cell_type": "code",
   "execution_count": 2,
   "metadata": {
    "collapsed": false
   },
   "outputs": [
    {
     "name": "stdout",
     "output_type": "stream",
     "text": [
      "3628800\n"
     ]
    }
   ],
   "source": [
    "#10까지 팩토리얼 계산\n",
    "def get_factorial(number):\n",
    "    product=1\n",
    "    while True:\n",
    "        if number <=1 :\n",
    "            return product\n",
    "        product=product*number\n",
    "        number=number-1\n",
    "        \n",
    "print(get_factorial(10))"
   ]
  },
  {
   "cell_type": "code",
   "execution_count": 3,
   "metadata": {
    "collapsed": false
   },
   "outputs": [
    {
     "name": "stdout",
     "output_type": "stream",
     "text": [
      "27\n"
     ]
    }
   ],
   "source": [
    "#10까지 팩토리얼 계산후 각자리수 합산\n",
    "def get_factorial(number):\n",
    "    product=1\n",
    "    while True:\n",
    "        if number <=1 :\n",
    "            return product\n",
    "        product=product*number\n",
    "        number=number-1\n",
    "        \n",
    "result=get_factorial(10)\n",
    "string=str(result)\n",
    "\n",
    "total=0\n",
    "for i in string:\n",
    "    total=total+int(i)\n",
    "print(total)"
   ]
  },
  {
   "cell_type": "code",
   "execution_count": 5,
   "metadata": {
    "collapsed": false
   },
   "outputs": [
    {
     "name": "stdout",
     "output_type": "stream",
     "text": [
      "93326215443944152681699238856266700490715968264381621468592963895217599993229915608941463976156518286253697920827223758251185210916864000000000000000000000000\n",
      "648\n"
     ]
    }
   ],
   "source": [
    "#100까지 계산\n",
    "def get_factorial(number):\n",
    "    product=1\n",
    "    while True:\n",
    "        if number <=1 :\n",
    "            return product\n",
    "        product=product*number\n",
    "        number=number-1\n",
    "        \n",
    "result=get_factorial(100)\n",
    "print(result)\n",
    "string=str(result)\n",
    "\n",
    "total=0\n",
    "for i in string:\n",
    "    total=total+int(i)\n",
    "print(total)"
   ]
  }
 ],
 "metadata": {
  "kernelspec": {
   "display_name": "Python 3",
   "language": "python",
   "name": "python3"
  },
  "language_info": {
   "codemirror_mode": {
    "name": "ipython",
    "version": 3
   },
   "file_extension": ".py",
   "mimetype": "text/x-python",
   "name": "python",
   "nbconvert_exporter": "python",
   "pygments_lexer": "ipython3",
   "version": "3.5.2"
  }
 },
 "nbformat": 4,
 "nbformat_minor": 0
}
